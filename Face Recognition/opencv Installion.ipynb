{
 "cells": [
  {
   "cell_type": "code",
   "execution_count": 2,
   "metadata": {},
   "outputs": [
    {
     "name": "stdout",
     "output_type": "stream",
     "text": [
      "Collecting opencv-python\n",
      "  Downloading opencv_python-4.5.3.56-cp38-cp38-manylinux2014_x86_64.whl (49.9 MB)\n",
      "\u001b[K     |████████████████████████████████| 49.9 MB 30 kB/s  eta 0:00:012   |██▋                             | 4.1 MB 123 kB/s eta 0:06:10     |███████                         | 10.8 MB 109 kB/s eta 0:05:58     |████████▊                       | 13.6 MB 186 kB/s eta 0:03:15     |█████████▎                      | 14.4 MB 33.1 MB/s eta 0:00:02     |█████████▌                      | 14.9 MB 33.1 MB/s eta 0:00:02     |███████████▏                    | 17.4 MB 220 kB/s eta 0:02:28     |██████████████████▌             | 28.9 MB 358 kB/s eta 0:00:59     |████████████████████▌           | 31.9 MB 525 kB/s eta 0:00:35\n",
      "\u001b[?25hCollecting numpy>=1.17.3\n",
      "  Using cached numpy-1.21.0-cp38-cp38-manylinux_2_12_x86_64.manylinux2010_x86_64.whl (15.7 MB)\n",
      "Installing collected packages: numpy, opencv-python\n",
      "Successfully installed numpy-1.21.0 opencv-python-4.5.3.56\n"
     ]
    }
   ],
   "source": [
    "!pip install opencv-python"
   ]
  },
  {
   "cell_type": "code",
   "execution_count": 3,
   "metadata": {},
   "outputs": [
    {
     "name": "stdout",
     "output_type": "stream",
     "text": [
      "Package           Version\r\n",
      "----------------- --------\r\n",
      "backcall          0.2.0\r\n",
      "debugpy           1.3.0\r\n",
      "decorator         5.0.9\r\n",
      "ipykernel         6.0.1\r\n",
      "ipython           7.25.0\r\n",
      "ipython-genutils  0.2.0\r\n",
      "jedi              0.18.0\r\n",
      "jupyter-client    6.1.12\r\n",
      "jupyter-core      4.7.1\r\n",
      "matplotlib-inline 0.1.2\r\n",
      "numpy             1.21.0\r\n",
      "opencv-python     4.5.3.56\r\n",
      "parso             0.8.2\r\n",
      "pexpect           4.8.0\r\n",
      "pickleshare       0.7.5\r\n",
      "pip               21.1.3\r\n",
      "prompt-toolkit    3.0.19\r\n",
      "ptyprocess        0.7.0\r\n",
      "Pygments          2.9.0\r\n",
      "python-dateutil   2.8.1\r\n",
      "pyzmq             22.1.0\r\n",
      "setuptools        41.2.0\r\n",
      "six               1.16.0\r\n",
      "tornado           6.1\r\n",
      "traitlets         5.0.5\r\n",
      "wcwidth           0.2.5\r\n"
     ]
    }
   ],
   "source": [
    "!pip list"
   ]
  },
  {
   "cell_type": "code",
   "execution_count": null,
   "metadata": {},
   "outputs": [],
   "source": []
  }
 ],
 "metadata": {
  "kernelspec": {
   "display_name": "kn",
   "language": "python",
   "name": "kn"
  },
  "language_info": {
   "codemirror_mode": {
    "name": "ipython",
    "version": 3
   },
   "file_extension": ".py",
   "mimetype": "text/x-python",
   "name": "python",
   "nbconvert_exporter": "python",
   "pygments_lexer": "ipython3",
   "version": "3.8.3"
  }
 },
 "nbformat": 4,
 "nbformat_minor": 4
}
